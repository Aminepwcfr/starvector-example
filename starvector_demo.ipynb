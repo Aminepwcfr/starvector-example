{
   "cells": [
      {
         "cell_type": "code",
         "execution_count": null,
         "metadata": {},
         "outputs": [],
         "source": [
            "!pip install starvector\n",
            "import numpy as np\n",
            "from starvector import StarVector\n",
            "\n",
            "# Créer un vecteur d'étoile avec des coordonnées sphériques\n",
            "star = StarVector(ra=10.684, dec=41.269)\n",
            "print(f\"RA: {star.ra}, DEC: {star.dec}\")\n",
            "\n",
            "# Obtenir les coordonnées galactiques\n",
            "galactic_coords = star.galactic()\n",
            "print(f\"L: {galactic_coords.l}, B: {galactic_coords.b}\")"
         ]
      }
   ],
   "metadata": {
      "kernelspec": {
         "display_name": "Python 3",
         "language": "python",
         "name": "python3"
      },
      "language_info": {
         "codemirror_mode": {
            "name": "ipython",
            "version": 3
         },
         "file_extension": ".py",
         "mimetype": "text/x-python",
         "name": "python",
         "nbconvert_exporter": "python",
         "pygments_lexer": "ipython3",
         "version": "3.8.8"
      }
   },
   "nbformat": 4,
   "nbformat_minor": 4
}
